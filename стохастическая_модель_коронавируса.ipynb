{
  "cells": [
    {
      "cell_type": "code",
      "execution_count": null,
      "metadata": {
        "id": "QqsrpWLoZ-N9"
      },
      "outputs": [],
      "source": [
        "import numpy as np\n",
        "import pandas as pd\n",
        "import matplotlib.pyplot as plt\n",
        "import scipy.stats as sps"
      ]
    },
    {
      "cell_type": "code",
      "execution_count": null,
      "metadata": {
        "colab": {
          "base_uri": "https://localhost:8080/"
        },
        "id": "kjDtz0DVbHMj",
        "outputId": "b9ef0a2d-dcd2-4c63-9188-64041583215b"
      },
      "outputs": [
        {
          "output_type": "execute_result",
          "data": {
            "text/plain": [
              "array(['Afghanistan', 'Africa', 'Albania', 'Algeria', 'Andorra', 'Angola',\n",
              "       'Anguilla', 'Antigua and Barbuda', 'Argentina', 'Armenia', 'Aruba',\n",
              "       'Asia', 'Australia', 'Austria', 'Azerbaijan', 'Bahamas', 'Bahrain',\n",
              "       'Bangladesh', 'Barbados', 'Belarus', 'Belgium', 'Belize', 'Benin',\n",
              "       'Bermuda', 'Bhutan', 'Bolivia', 'Bonaire Sint Eustatius and Saba',\n",
              "       'Bosnia and Herzegovina', 'Botswana', 'Brazil',\n",
              "       'British Virgin Islands', 'Brunei', 'Bulgaria', 'Burkina Faso',\n",
              "       'Burundi', 'Cambodia', 'Cameroon', 'Canada', 'Cape Verde',\n",
              "       'Cayman Islands', 'Central African Republic', 'Chad', 'Chile',\n",
              "       'China', 'Colombia', 'Comoros', 'Congo', 'Cook Islands',\n",
              "       'Costa Rica', \"Cote d'Ivoire\", 'Croatia', 'Cuba', 'Curacao',\n",
              "       'Cyprus', 'Czechia', 'Democratic Republic of Congo', 'Denmark',\n",
              "       'Djibouti', 'Dominica', 'Dominican Republic', 'Ecuador', 'Egypt',\n",
              "       'El Salvador', 'Equatorial Guinea', 'Eritrea', 'Estonia',\n",
              "       'Eswatini', 'Ethiopia', 'Europe', 'European Union',\n",
              "       'Faeroe Islands', 'Falkland Islands', 'Fiji', 'Finland', 'France',\n",
              "       'French Polynesia', 'Gabon', 'Gambia', 'Georgia', 'Germany',\n",
              "       'Ghana', 'Gibraltar', 'Greece', 'Greenland', 'Grenada', 'Guam',\n",
              "       'Guatemala', 'Guernsey', 'Guinea', 'Guinea-Bissau', 'Guyana',\n",
              "       'Haiti', 'High income', 'Honduras', 'Hong Kong', 'Hungary',\n",
              "       'Iceland', 'India', 'Indonesia', 'International', 'Iran', 'Iraq',\n",
              "       'Ireland', 'Isle of Man', 'Israel', 'Italy', 'Jamaica', 'Japan',\n",
              "       'Jersey', 'Jordan', 'Kazakhstan', 'Kenya', 'Kiribati', 'Kosovo',\n",
              "       'Kuwait', 'Kyrgyzstan', 'Laos', 'Latvia', 'Lebanon', 'Lesotho',\n",
              "       'Liberia', 'Libya', 'Liechtenstein', 'Lithuania', 'Low income',\n",
              "       'Lower middle income', 'Luxembourg', 'Macao', 'Madagascar',\n",
              "       'Malawi', 'Malaysia', 'Maldives', 'Mali', 'Malta',\n",
              "       'Marshall Islands', 'Mauritania', 'Mauritius', 'Mexico',\n",
              "       'Micronesia (country)', 'Moldova', 'Monaco', 'Mongolia',\n",
              "       'Montenegro', 'Montserrat', 'Morocco', 'Mozambique', 'Myanmar',\n",
              "       'Namibia', 'Nauru', 'Nepal', 'Netherlands', 'New Caledonia',\n",
              "       'New Zealand', 'Nicaragua', 'Niger', 'Nigeria', 'Niue',\n",
              "       'North America', 'North Korea', 'North Macedonia',\n",
              "       'Northern Cyprus', 'Northern Mariana Islands', 'Norway', 'Oceania',\n",
              "       'Oman', 'Pakistan', 'Palau', 'Palestine', 'Panama',\n",
              "       'Papua New Guinea', 'Paraguay', 'Peru', 'Philippines', 'Pitcairn',\n",
              "       'Poland', 'Portugal', 'Puerto Rico', 'Qatar', 'Romania', 'Russia',\n",
              "       'Rwanda', 'Saint Helena', 'Saint Kitts and Nevis', 'Saint Lucia',\n",
              "       'Saint Pierre and Miquelon', 'Saint Vincent and the Grenadines',\n",
              "       'Samoa', 'San Marino', 'Sao Tome and Principe', 'Saudi Arabia',\n",
              "       'Senegal', 'Serbia', 'Seychelles', 'Sierra Leone', 'Singapore',\n",
              "       'Sint Maarten (Dutch part)', 'Slovakia', 'Slovenia',\n",
              "       'Solomon Islands', 'Somalia', 'South Africa', 'South America',\n",
              "       'South Korea', 'South Sudan', 'Spain', 'Sri Lanka', 'Sudan',\n",
              "       'Suriname', 'Sweden', 'Switzerland', 'Syria', 'Taiwan',\n",
              "       'Tajikistan', 'Tanzania', 'Thailand', 'Timor', 'Togo', 'Tokelau',\n",
              "       'Tonga', 'Trinidad and Tobago', 'Tunisia', 'Turkey',\n",
              "       'Turkmenistan', 'Turks and Caicos Islands', 'Tuvalu', 'Uganda',\n",
              "       'Ukraine', 'United Arab Emirates', 'United Kingdom',\n",
              "       'United States', 'United States Virgin Islands',\n",
              "       'Upper middle income', 'Uruguay', 'Uzbekistan', 'Vanuatu',\n",
              "       'Vatican', 'Venezuela', 'Vietnam', 'Wallis and Futuna',\n",
              "       'Western Sahara', 'World', 'Yemen', 'Zambia', 'Zimbabwe'],\n",
              "      dtype=object)"
            ]
          },
          "metadata": {},
          "execution_count": 2
        }
      ],
      "source": [
        "all=pd.read_csv(\"owid-covid-data.csv\")\n",
        "pd.unique(all[\"location\"])"
      ]
    },
    {
      "cell_type": "code",
      "execution_count": null,
      "metadata": {
        "colab": {
          "base_uri": "https://localhost:8080/",
          "height": 780
        },
        "id": "JB6_cBbihfJ-",
        "outputId": "a561d07c-8842-425b-dbdd-66aee4b38a2c"
      },
      "outputs": [
        {
          "output_type": "stream",
          "name": "stderr",
          "text": [
            "/usr/local/lib/python3.7/dist-packages/ipykernel_launcher.py:2: SettingWithCopyWarning: \n",
            "A value is trying to be set on a copy of a slice from a DataFrame.\n",
            "Try using .loc[row_indexer,col_indexer] = value instead\n",
            "\n",
            "See the caveats in the documentation: https://pandas.pydata.org/pandas-docs/stable/user_guide/indexing.html#returning-a-view-versus-a-copy\n",
            "  \n"
          ]
        },
        {
          "output_type": "execute_result",
          "data": {
            "text/plain": [
              "            date  total_cases  total_deaths\n",
              "63528 2020-01-24          2.0           NaN\n",
              "63529 2020-01-25          3.0           NaN\n",
              "63530 2020-01-26          3.0           NaN\n",
              "63531 2020-01-27          3.0           NaN\n",
              "63532 2020-01-28          4.0           NaN\n",
              "...          ...          ...           ...\n",
              "64426 2022-07-10   32176376.0      150086.0\n",
              "64427 2022-07-11   32427713.0      150248.0\n",
              "64428 2022-07-12   32609987.0      150374.0\n",
              "64429 2022-07-13   32737629.0      150483.0\n",
              "64430 2022-07-14   32737629.0      150483.0\n",
              "\n",
              "[903 rows x 3 columns]"
            ],
            "text/html": [
              "\n",
              "  <div id=\"df-0ff35dfe-232a-4b61-9987-5ea2d7da4791\">\n",
              "    <div class=\"colab-df-container\">\n",
              "      <div>\n",
              "<style scoped>\n",
              "    .dataframe tbody tr th:only-of-type {\n",
              "        vertical-align: middle;\n",
              "    }\n",
              "\n",
              "    .dataframe tbody tr th {\n",
              "        vertical-align: top;\n",
              "    }\n",
              "\n",
              "    .dataframe thead th {\n",
              "        text-align: right;\n",
              "    }\n",
              "</style>\n",
              "<table border=\"1\" class=\"dataframe\">\n",
              "  <thead>\n",
              "    <tr style=\"text-align: right;\">\n",
              "      <th></th>\n",
              "      <th>date</th>\n",
              "      <th>total_cases</th>\n",
              "      <th>total_deaths</th>\n",
              "    </tr>\n",
              "  </thead>\n",
              "  <tbody>\n",
              "    <tr>\n",
              "      <th>63528</th>\n",
              "      <td>2020-01-24</td>\n",
              "      <td>2.0</td>\n",
              "      <td>NaN</td>\n",
              "    </tr>\n",
              "    <tr>\n",
              "      <th>63529</th>\n",
              "      <td>2020-01-25</td>\n",
              "      <td>3.0</td>\n",
              "      <td>NaN</td>\n",
              "    </tr>\n",
              "    <tr>\n",
              "      <th>63530</th>\n",
              "      <td>2020-01-26</td>\n",
              "      <td>3.0</td>\n",
              "      <td>NaN</td>\n",
              "    </tr>\n",
              "    <tr>\n",
              "      <th>63531</th>\n",
              "      <td>2020-01-27</td>\n",
              "      <td>3.0</td>\n",
              "      <td>NaN</td>\n",
              "    </tr>\n",
              "    <tr>\n",
              "      <th>63532</th>\n",
              "      <td>2020-01-28</td>\n",
              "      <td>4.0</td>\n",
              "      <td>NaN</td>\n",
              "    </tr>\n",
              "    <tr>\n",
              "      <th>...</th>\n",
              "      <td>...</td>\n",
              "      <td>...</td>\n",
              "      <td>...</td>\n",
              "    </tr>\n",
              "    <tr>\n",
              "      <th>64426</th>\n",
              "      <td>2022-07-10</td>\n",
              "      <td>32176376.0</td>\n",
              "      <td>150086.0</td>\n",
              "    </tr>\n",
              "    <tr>\n",
              "      <th>64427</th>\n",
              "      <td>2022-07-11</td>\n",
              "      <td>32427713.0</td>\n",
              "      <td>150248.0</td>\n",
              "    </tr>\n",
              "    <tr>\n",
              "      <th>64428</th>\n",
              "      <td>2022-07-12</td>\n",
              "      <td>32609987.0</td>\n",
              "      <td>150374.0</td>\n",
              "    </tr>\n",
              "    <tr>\n",
              "      <th>64429</th>\n",
              "      <td>2022-07-13</td>\n",
              "      <td>32737629.0</td>\n",
              "      <td>150483.0</td>\n",
              "    </tr>\n",
              "    <tr>\n",
              "      <th>64430</th>\n",
              "      <td>2022-07-14</td>\n",
              "      <td>32737629.0</td>\n",
              "      <td>150483.0</td>\n",
              "    </tr>\n",
              "  </tbody>\n",
              "</table>\n",
              "<p>903 rows × 3 columns</p>\n",
              "</div>\n",
              "      <button class=\"colab-df-convert\" onclick=\"convertToInteractive('df-0ff35dfe-232a-4b61-9987-5ea2d7da4791')\"\n",
              "              title=\"Convert this dataframe to an interactive table.\"\n",
              "              style=\"display:none;\">\n",
              "        \n",
              "  <svg xmlns=\"http://www.w3.org/2000/svg\" height=\"24px\"viewBox=\"0 0 24 24\"\n",
              "       width=\"24px\">\n",
              "    <path d=\"M0 0h24v24H0V0z\" fill=\"none\"/>\n",
              "    <path d=\"M18.56 5.44l.94 2.06.94-2.06 2.06-.94-2.06-.94-.94-2.06-.94 2.06-2.06.94zm-11 1L8.5 8.5l.94-2.06 2.06-.94-2.06-.94L8.5 2.5l-.94 2.06-2.06.94zm10 10l.94 2.06.94-2.06 2.06-.94-2.06-.94-.94-2.06-.94 2.06-2.06.94z\"/><path d=\"M17.41 7.96l-1.37-1.37c-.4-.4-.92-.59-1.43-.59-.52 0-1.04.2-1.43.59L10.3 9.45l-7.72 7.72c-.78.78-.78 2.05 0 2.83L4 21.41c.39.39.9.59 1.41.59.51 0 1.02-.2 1.41-.59l7.78-7.78 2.81-2.81c.8-.78.8-2.07 0-2.86zM5.41 20L4 18.59l7.72-7.72 1.47 1.35L5.41 20z\"/>\n",
              "  </svg>\n",
              "      </button>\n",
              "      \n",
              "  <style>\n",
              "    .colab-df-container {\n",
              "      display:flex;\n",
              "      flex-wrap:wrap;\n",
              "      gap: 12px;\n",
              "    }\n",
              "\n",
              "    .colab-df-convert {\n",
              "      background-color: #E8F0FE;\n",
              "      border: none;\n",
              "      border-radius: 50%;\n",
              "      cursor: pointer;\n",
              "      display: none;\n",
              "      fill: #1967D2;\n",
              "      height: 32px;\n",
              "      padding: 0 0 0 0;\n",
              "      width: 32px;\n",
              "    }\n",
              "\n",
              "    .colab-df-convert:hover {\n",
              "      background-color: #E2EBFA;\n",
              "      box-shadow: 0px 1px 2px rgba(60, 64, 67, 0.3), 0px 1px 3px 1px rgba(60, 64, 67, 0.15);\n",
              "      fill: #174EA6;\n",
              "    }\n",
              "\n",
              "    [theme=dark] .colab-df-convert {\n",
              "      background-color: #3B4455;\n",
              "      fill: #D2E3FC;\n",
              "    }\n",
              "\n",
              "    [theme=dark] .colab-df-convert:hover {\n",
              "      background-color: #434B5C;\n",
              "      box-shadow: 0px 1px 3px 1px rgba(0, 0, 0, 0.15);\n",
              "      filter: drop-shadow(0px 1px 2px rgba(0, 0, 0, 0.3));\n",
              "      fill: #FFFFFF;\n",
              "    }\n",
              "  </style>\n",
              "\n",
              "      <script>\n",
              "        const buttonEl =\n",
              "          document.querySelector('#df-0ff35dfe-232a-4b61-9987-5ea2d7da4791 button.colab-df-convert');\n",
              "        buttonEl.style.display =\n",
              "          google.colab.kernel.accessAllowed ? 'block' : 'none';\n",
              "\n",
              "        async function convertToInteractive(key) {\n",
              "          const element = document.querySelector('#df-0ff35dfe-232a-4b61-9987-5ea2d7da4791');\n",
              "          const dataTable =\n",
              "            await google.colab.kernel.invokeFunction('convertToInteractive',\n",
              "                                                     [key], {});\n",
              "          if (!dataTable) return;\n",
              "\n",
              "          const docLinkHtml = 'Like what you see? Visit the ' +\n",
              "            '<a target=\"_blank\" href=https://colab.research.google.com/notebooks/data_table.ipynb>data table notebook</a>'\n",
              "            + ' to learn more about interactive tables.';\n",
              "          element.innerHTML = '';\n",
              "          dataTable['output_type'] = 'display_data';\n",
              "          await google.colab.output.renderOutput(dataTable, element);\n",
              "          const docLink = document.createElement('div');\n",
              "          docLink.innerHTML = docLinkHtml;\n",
              "          element.appendChild(docLink);\n",
              "        }\n",
              "      </script>\n",
              "    </div>\n",
              "  </div>\n",
              "  "
            ]
          },
          "metadata": {},
          "execution_count": 39
        }
      ],
      "source": [
        "France = all.loc[all['location'] == 'France']\n",
        "France['date'] = pd.to_datetime(France['date'], dayfirst=True)\n",
        "France_deaths_cases = France[['date', 'total_cases', 'total_deaths']]\n",
        "France_deaths_cases"
      ]
    },
    {
      "cell_type": "code",
      "execution_count": null,
      "metadata": {
        "id": "JFAv2aegmKw8"
      },
      "outputs": [],
      "source": [
        "France_deaths_cases=France_deaths_cases.fillna(0)\n",
        "France_deaths_cases_first = France_deaths_cases[:200]\n"
      ]
    },
    {
      "cell_type": "code",
      "execution_count": null,
      "metadata": {
        "colab": {
          "base_uri": "https://localhost:8080/",
          "height": 424
        },
        "id": "DtqzRAipQOIg",
        "outputId": "f0a3532f-da9d-46e4-89f9-0cef98063963"
      },
      "outputs": [
        {
          "output_type": "execute_result",
          "data": {
            "text/plain": [
              "            date  total_cases  total_deaths\n",
              "63574 2020-03-10       1783.0          33.0\n",
              "63575 2020-03-11       2293.0          48.0\n",
              "63576 2020-03-12       2293.0          48.0\n",
              "63577 2020-03-13       3678.0          79.0\n",
              "63578 2020-03-14       4493.0          91.0\n",
              "...          ...          ...           ...\n",
              "63888 2021-01-18    2955071.0       70698.0\n",
              "63889 2021-01-19    2979094.0       71354.0\n",
              "63890 2021-01-20    3005852.0       71664.0\n",
              "63891 2021-01-21    3028439.0       72010.0\n",
              "63892 2021-01-22    3051731.0       72659.0\n",
              "\n",
              "[319 rows x 3 columns]"
            ],
            "text/html": [
              "\n",
              "  <div id=\"df-3318004a-4f4e-4b88-88b9-3fffa30781d8\">\n",
              "    <div class=\"colab-df-container\">\n",
              "      <div>\n",
              "<style scoped>\n",
              "    .dataframe tbody tr th:only-of-type {\n",
              "        vertical-align: middle;\n",
              "    }\n",
              "\n",
              "    .dataframe tbody tr th {\n",
              "        vertical-align: top;\n",
              "    }\n",
              "\n",
              "    .dataframe thead th {\n",
              "        text-align: right;\n",
              "    }\n",
              "</style>\n",
              "<table border=\"1\" class=\"dataframe\">\n",
              "  <thead>\n",
              "    <tr style=\"text-align: right;\">\n",
              "      <th></th>\n",
              "      <th>date</th>\n",
              "      <th>total_cases</th>\n",
              "      <th>total_deaths</th>\n",
              "    </tr>\n",
              "  </thead>\n",
              "  <tbody>\n",
              "    <tr>\n",
              "      <th>63574</th>\n",
              "      <td>2020-03-10</td>\n",
              "      <td>1783.0</td>\n",
              "      <td>33.0</td>\n",
              "    </tr>\n",
              "    <tr>\n",
              "      <th>63575</th>\n",
              "      <td>2020-03-11</td>\n",
              "      <td>2293.0</td>\n",
              "      <td>48.0</td>\n",
              "    </tr>\n",
              "    <tr>\n",
              "      <th>63576</th>\n",
              "      <td>2020-03-12</td>\n",
              "      <td>2293.0</td>\n",
              "      <td>48.0</td>\n",
              "    </tr>\n",
              "    <tr>\n",
              "      <th>63577</th>\n",
              "      <td>2020-03-13</td>\n",
              "      <td>3678.0</td>\n",
              "      <td>79.0</td>\n",
              "    </tr>\n",
              "    <tr>\n",
              "      <th>63578</th>\n",
              "      <td>2020-03-14</td>\n",
              "      <td>4493.0</td>\n",
              "      <td>91.0</td>\n",
              "    </tr>\n",
              "    <tr>\n",
              "      <th>...</th>\n",
              "      <td>...</td>\n",
              "      <td>...</td>\n",
              "      <td>...</td>\n",
              "    </tr>\n",
              "    <tr>\n",
              "      <th>63888</th>\n",
              "      <td>2021-01-18</td>\n",
              "      <td>2955071.0</td>\n",
              "      <td>70698.0</td>\n",
              "    </tr>\n",
              "    <tr>\n",
              "      <th>63889</th>\n",
              "      <td>2021-01-19</td>\n",
              "      <td>2979094.0</td>\n",
              "      <td>71354.0</td>\n",
              "    </tr>\n",
              "    <tr>\n",
              "      <th>63890</th>\n",
              "      <td>2021-01-20</td>\n",
              "      <td>3005852.0</td>\n",
              "      <td>71664.0</td>\n",
              "    </tr>\n",
              "    <tr>\n",
              "      <th>63891</th>\n",
              "      <td>2021-01-21</td>\n",
              "      <td>3028439.0</td>\n",
              "      <td>72010.0</td>\n",
              "    </tr>\n",
              "    <tr>\n",
              "      <th>63892</th>\n",
              "      <td>2021-01-22</td>\n",
              "      <td>3051731.0</td>\n",
              "      <td>72659.0</td>\n",
              "    </tr>\n",
              "  </tbody>\n",
              "</table>\n",
              "<p>319 rows × 3 columns</p>\n",
              "</div>\n",
              "      <button class=\"colab-df-convert\" onclick=\"convertToInteractive('df-3318004a-4f4e-4b88-88b9-3fffa30781d8')\"\n",
              "              title=\"Convert this dataframe to an interactive table.\"\n",
              "              style=\"display:none;\">\n",
              "        \n",
              "  <svg xmlns=\"http://www.w3.org/2000/svg\" height=\"24px\"viewBox=\"0 0 24 24\"\n",
              "       width=\"24px\">\n",
              "    <path d=\"M0 0h24v24H0V0z\" fill=\"none\"/>\n",
              "    <path d=\"M18.56 5.44l.94 2.06.94-2.06 2.06-.94-2.06-.94-.94-2.06-.94 2.06-2.06.94zm-11 1L8.5 8.5l.94-2.06 2.06-.94-2.06-.94L8.5 2.5l-.94 2.06-2.06.94zm10 10l.94 2.06.94-2.06 2.06-.94-2.06-.94-.94-2.06-.94 2.06-2.06.94z\"/><path d=\"M17.41 7.96l-1.37-1.37c-.4-.4-.92-.59-1.43-.59-.52 0-1.04.2-1.43.59L10.3 9.45l-7.72 7.72c-.78.78-.78 2.05 0 2.83L4 21.41c.39.39.9.59 1.41.59.51 0 1.02-.2 1.41-.59l7.78-7.78 2.81-2.81c.8-.78.8-2.07 0-2.86zM5.41 20L4 18.59l7.72-7.72 1.47 1.35L5.41 20z\"/>\n",
              "  </svg>\n",
              "      </button>\n",
              "      \n",
              "  <style>\n",
              "    .colab-df-container {\n",
              "      display:flex;\n",
              "      flex-wrap:wrap;\n",
              "      gap: 12px;\n",
              "    }\n",
              "\n",
              "    .colab-df-convert {\n",
              "      background-color: #E8F0FE;\n",
              "      border: none;\n",
              "      border-radius: 50%;\n",
              "      cursor: pointer;\n",
              "      display: none;\n",
              "      fill: #1967D2;\n",
              "      height: 32px;\n",
              "      padding: 0 0 0 0;\n",
              "      width: 32px;\n",
              "    }\n",
              "\n",
              "    .colab-df-convert:hover {\n",
              "      background-color: #E2EBFA;\n",
              "      box-shadow: 0px 1px 2px rgba(60, 64, 67, 0.3), 0px 1px 3px 1px rgba(60, 64, 67, 0.15);\n",
              "      fill: #174EA6;\n",
              "    }\n",
              "\n",
              "    [theme=dark] .colab-df-convert {\n",
              "      background-color: #3B4455;\n",
              "      fill: #D2E3FC;\n",
              "    }\n",
              "\n",
              "    [theme=dark] .colab-df-convert:hover {\n",
              "      background-color: #434B5C;\n",
              "      box-shadow: 0px 1px 3px 1px rgba(0, 0, 0, 0.15);\n",
              "      filter: drop-shadow(0px 1px 2px rgba(0, 0, 0, 0.3));\n",
              "      fill: #FFFFFF;\n",
              "    }\n",
              "  </style>\n",
              "\n",
              "      <script>\n",
              "        const buttonEl =\n",
              "          document.querySelector('#df-3318004a-4f4e-4b88-88b9-3fffa30781d8 button.colab-df-convert');\n",
              "        buttonEl.style.display =\n",
              "          google.colab.kernel.accessAllowed ? 'block' : 'none';\n",
              "\n",
              "        async function convertToInteractive(key) {\n",
              "          const element = document.querySelector('#df-3318004a-4f4e-4b88-88b9-3fffa30781d8');\n",
              "          const dataTable =\n",
              "            await google.colab.kernel.invokeFunction('convertToInteractive',\n",
              "                                                     [key], {});\n",
              "          if (!dataTable) return;\n",
              "\n",
              "          const docLinkHtml = 'Like what you see? Visit the ' +\n",
              "            '<a target=\"_blank\" href=https://colab.research.google.com/notebooks/data_table.ipynb>data table notebook</a>'\n",
              "            + ' to learn more about interactive tables.';\n",
              "          element.innerHTML = '';\n",
              "          dataTable['output_type'] = 'display_data';\n",
              "          await google.colab.output.renderOutput(dataTable, element);\n",
              "          const docLink = document.createElement('div');\n",
              "          docLink.innerHTML = docLinkHtml;\n",
              "          element.appendChild(docLink);\n",
              "        }\n",
              "      </script>\n",
              "    </div>\n",
              "  </div>\n",
              "  "
            ]
          },
          "metadata": {},
          "execution_count": 48
        }
      ],
      "source": [
        "France_deaths_cases_year = France_deaths_cases[46:365]"
      ]
    },
    {
      "cell_type": "code",
      "execution_count": null,
      "metadata": {
        "colab": {
          "base_uri": "https://localhost:8080/"
        },
        "id": "aZoEyY_6pEOO",
        "outputId": "c76b54e4-1686-4abf-8bb8-d93aaf1a8118"
      },
      "outputs": [
        {
          "output_type": "stream",
          "name": "stdout",
          "text": [
            "<class 'pandas.core.frame.DataFrame'>\n",
            "Int64Index: 180 entries, 63528 to 63707\n",
            "Data columns (total 3 columns):\n",
            " #   Column        Non-Null Count  Dtype         \n",
            "---  ------        --------------  -----         \n",
            " 0   date          180 non-null    datetime64[ns]\n",
            " 1   total_cases   180 non-null    float64       \n",
            " 2   total_deaths  180 non-null    float64       \n",
            "dtypes: datetime64[ns](1), float64(2)\n",
            "memory usage: 5.6 KB\n",
            "None\n"
          ]
        }
      ],
      "source": [
        "print(France_deaths_cases_first.info())"
      ]
    },
    {
      "cell_type": "markdown",
      "metadata": {
        "id": "ywAVodEuLbxe"
      },
      "source": [
        "Построим графики заболеваемости и смертности во франции за первые 180 дней"
      ]
    },
    {
      "cell_type": "code",
      "execution_count": null,
      "metadata": {
        "colab": {
          "base_uri": "https://localhost:8080/",
          "height": 292
        },
        "id": "TUDV0NGAo71T",
        "outputId": "709058e9-51c4-4bcb-a48c-5ecb62bc5e0f"
      },
      "outputs": [
        {
          "output_type": "display_data",
          "data": {
            "text/plain": [
              "<Figure size 432x288 with 1 Axes>"
            ],
            "image/png": "[encoded data removed]"
          },
          "metadata": {
            "needs_background": "light"
          }
        }
      ],
      "source": [
        "France_deaths_cases_first.plot(x ='date')\n",
        "plt.show()"
      ]
    },
    {
      "cell_type": "markdown",
      "metadata": {
        "id": "8URa5L95LZ-s"
      },
      "source": [
        "Построим за первые 85 дней, когда ещё не было эфффекта карантинных мер( так как их в нашей модели не учитываем)"
      ]
    },
    {
      "cell_type": "code",
      "execution_count": null,
      "metadata": {
        "colab": {
          "base_uri": "https://localhost:8080/",
          "height": 314
        },
        "id": "fA-Od5dc_dYp",
        "outputId": "6dc7b7b1-f2e0-4ac4-fe0b-169e0e8089ef"
      },
      "outputs": [
        {
          "output_type": "display_data",
          "data": {
            "text/plain": [
              "<Figure size 432x288 with 1 Axes>"
            ],
            "image/png": "[encoded data removed]"
          },
          "metadata": {
            "needs_background": "light"
          }
        }
      ],
      "source": [
        "France_deaths_cases=France_deaths_cases.fillna(0)\n",
        "France_deaths_cases_first = France_deaths_cases[:85]\n",
        "France_deaths_cases_first.plot(x ='date')\n",
        "plt.show()"
      ]
    },
    {
      "cell_type": "code",
      "execution_count": null,
      "metadata": {
        "id": "_UrBXmIpBNZG"
      },
      "outputs": [],
      "source": [
        "a = np.array(France_deaths_cases_first['total_cases'].tolist())\n",
        "b = np.array(France_deaths_cases_first['total_deaths'].tolist())"
      ]
    },
    {
      "cell_type": "code",
      "execution_count": null,
      "metadata": {
        "id": "8pUDkNKItBtB"
      },
      "outputs": [],
      "source": [
        "from scipy.integrate import odeint"
      ]
    },
    {
      "cell_type": "markdown",
      "metadata": {
        "id": "Ws9lpwlVL2ug"
      },
      "source": [
        "Берем модель SIR, Теперь решим систему ОДУ и подберем оптимальные параметры"
      ]
    },
    {
      "cell_type": "code",
      "execution_count": null,
      "metadata": {
        "colab": {
          "base_uri": "https://localhost:8080/",
          "height": 265
        },
        "id": "Elzi5cJSxL_S",
        "outputId": "c95637bb-5a6c-4da4-c852-ab649208a18c"
      },
      "outputs": [
        {
          "output_type": "display_data",
          "data": {
            "text/plain": [
              "<Figure size 432x288 with 1 Axes>"
            ],
            "image/png": "[encoded data removed]"
          },
          "metadata": {
            "needs_background": "light"
          }
        }
      ],
      "source": [
        "beta = 0.3\n",
        "gamma = 0.2\n",
        "nu = 0.012\n",
        "time = 85\n",
        "t=np.linspace(1,time,time)\n",
        "I0=2\n",
        "D0=0\n",
        "S0=68084217\n",
        "R0=0\n",
        "def ode(y, t):\n",
        "        S, I, D, R = y\n",
        "        dydt = [-beta*S*I/(S0-D),beta*S*I/(S0-D)-gamma*I-nu*I, nu*I, gamma*I]\n",
        "        return dydt \n",
        "result3 = odeint(ode,[S0,I0,D0,R0],t) \n",
        "result3 = result3.T\n",
        "plt.figure()\n",
        "plt.plot(t, result3[1], 'b-')\n",
        "plt.plot(t, result3[2], 'y--')\n",
        "plt.plot(t, result3[3]+result3[1]+result3[2], 'r-')\n",
        "plt.show()"
      ]
    },
    {
      "cell_type": "markdown",
      "metadata": {
        "id": "jUcTsVgVMGdp"
      },
      "source": [
        "Подбор оптимальных параметров для нахождения R0"
      ]
    },
    {
      "cell_type": "code",
      "execution_count": null,
      "metadata": {
        "id": "q9viIAEMO8Ss"
      },
      "outputs": [],
      "source": [
        "import time\n",
        "from tqdm import tqdm"
      ]
    },
    {
      "cell_type": "code",
      "execution_count": null,
      "metadata": {
        "colab": {
          "base_uri": "https://localhost:8080/",
          "height": 334
        },
        "id": "HobDKKkoDsGL",
        "outputId": "faf08c0d-80c2-466b-c7d7-aa7d4153f749"
      },
      "outputs": [
        {
          "output_type": "stream",
          "name": "stderr",
          "text": [
            "100%|██████████| 99/99 [00:00<00:00, 189.04it/s]\n"
          ]
        },
        {
          "output_type": "stream",
          "name": "stdout",
          "text": [
            "beta= 0.34199999999999997\n",
            "gamma= 0.20400000000000001\n",
            "nu= 0.015000000000000003\n"
          ]
        },
        {
          "output_type": "display_data",
          "data": {
            "text/plain": [
              "<Figure size 432x288 with 1 Axes>"
            ],
            "image/png": "[encoded data removed]"
          },
          "metadata": {
            "needs_background": "light"
          }
        }
      ],
      "source": [
        "tl=85\n",
        "min=np.sum(np.abs(a-(result3[3]+result3[1]+result3[2]))+ np.abs(b-result3[2]))/tl\n",
        "t=np.linspace(1,tl,tl)\n",
        "def minimal(beta,gamma,nu):\n",
        "    I0=2\n",
        "    D0=0\n",
        "    S0=68084217\n",
        "    R0=0\n",
        "    def ode(y, t):\n",
        "            S, I, D, R = y\n",
        "            dydt = [-beta*S*I/(S0-D),beta*S*I/(S0-D)-gamma*I-nu*I, nu*I, gamma*I]\n",
        "            return dydt \n",
        "    result3 = odeint(ode,[S0,I0,D0,R0],t) \n",
        "    result3 = result3.T\n",
        "    J = np.sum(np.abs(a-(result3[3]+result3[1]+result3[2])))/tl \n",
        "    return J\n",
        "beta = 0.345\n",
        "gamma = 0.2\n",
        "nu = 0.012 \n",
        "step = 0.001\n",
        "for i in tqdm(range(1,100)):\n",
        "    if minimal(beta+step, gamma,nu)<min:\n",
        "        beta = beta+step\n",
        "        min = minimal(beta, gamma,nu)\n",
        "    if minimal(beta-step, gamma,nu)<min:\n",
        "        beta = beta-step\n",
        "        min = minimal(beta, gamma,nu)\n",
        "    if minimal(beta, gamma+step,nu)<min:\n",
        "        gamma = gamma+step\n",
        "        min = minimal(beta, gamma,nu)\n",
        "    if minimal(beta, gamma-step,nu)<min:\n",
        "        gamma = gamma-step\n",
        "        min = minimal(beta, gamma,nu)\n",
        "    if minimal(beta, gamma,nu+step)<min:\n",
        "        nu = nu+step\n",
        "        min = minimal(beta, gamma,nu)   \n",
        "    if minimal(beta, gamma,nu-step)<min:\n",
        "        nu = nu-step\n",
        "        min = minimal(beta, gamma,nu)\n",
        "result3 = odeint(ode,[S0,I0,D0,R0],t) \n",
        "result3 = result3.T\n",
        "print('beta=', beta)\n",
        "print('gamma=', gamma)\n",
        "print('nu=', nu)\n",
        "plt.plot(t, result3[3]+result3[1]+result3[2], 'b--', label=\"Модель заболеваемости\")\n",
        "plt.plot(t, result3[2], 'y--', label=\"Модель смертности\")\n",
        "plt.plot(t,a, label=\"Реальная заболеваемость\")\n",
        "plt.plot(t,b, label=\"Реальная смертность\")\n",
        "plt.legend()\n",
        "plt.show()\n"
      ]
    },
    {
      "cell_type": "code",
      "execution_count": null,
      "metadata": {
        "colab": {
          "base_uri": "https://localhost:8080/"
        },
        "id": "3WTk-rkgP48a",
        "outputId": "d1e589cb-2f1a-4184-db8f-850bc3f2dadf"
      },
      "outputs": [
        {
          "output_type": "stream",
          "name": "stdout",
          "text": [
            "1.561643835616438\n"
          ]
        }
      ],
      "source": [
        "R0 = beta/(gamma+nu)\n",
        "print(R0)"
      ]
    },
    {
      "cell_type": "code",
      "source": [
        "np.sum(np.abs(a-(result3[3]+result3[1]+result3[2]))/(result3[3]+result3[1]+result3[2]))/tl"
      ],
      "metadata": {
        "colab": {
          "base_uri": "https://localhost:8080/"
        },
        "id": "EtZVZAe-hzlQ",
        "outputId": "bae91be3-7f46-4774-afc2-ca7b7fc1258a"
      },
      "execution_count": null,
      "outputs": [
        {
          "output_type": "execute_result",
          "data": {
            "text/plain": [
              "0.6998972793833454"
            ]
          },
          "metadata": {},
          "execution_count": 32
        }
      ]
    },
    {
      "cell_type": "markdown",
      "metadata": {
        "id": "ElrQHmz0ysPi"
      },
      "source": [
        "**Уложняем модель**"
      ]
    },
    {
      "cell_type": "markdown",
      "metadata": {
        "id": "gui3XVdKyz8f"
      },
      "source": [
        "Нахождение насыщенности для SIR,R(t) доля переболевших для данной модели"
      ]
    },
    {
      "cell_type": "code",
      "execution_count": null,
      "metadata": {
        "colab": {
          "base_uri": "https://localhost:8080/",
          "height": 311
        },
        "id": "JfSY3OpMyzJ6",
        "outputId": "2b0bb5c5-fb4d-4191-d734-3d911adf1c8c"
      },
      "outputs": [
        {
          "output_type": "display_data",
          "data": {
            "text/plain": [
              "<Figure size 432x288 with 1 Axes>"
            ],
            "image/png": "[encoded data removed]"
          },
          "metadata": {
            "needs_background": "light"
          }
        },
        {
          "output_type": "stream",
          "name": "stdout",
          "text": [
            "Переболело  40609791.905973084\n",
            "Умерло  2986014.1107333144\n"
          ]
        }
      ],
      "source": [
        "time = 365\n",
        "t=np.linspace(1,time,time)\n",
        "I0=2\n",
        "D0=0\n",
        "S0=68084217\n",
        "R0=0\n",
        "def ode(y, t):\n",
        "        S, I, D, R = y\n",
        "        dydt = [-beta*S*I/(S0-D),beta*S*I/(S0-D)-gamma*I-nu*I, nu*I, gamma*I]\n",
        "        return dydt \n",
        "result3 = odeint(ode,[S0,I0,D0,R0],t) \n",
        "result3 = result3.T\n",
        "plt.figure()\n",
        "plt.plot(t, result3[1], 'b-', label=\"инфицированные\")\n",
        "plt.plot(t, result3[2], 'y--', label=\"умерли\")\n",
        "plt.plot(t, result3[3], 'r-', label='выздоровевшие')\n",
        "plt.legend()\n",
        "plt.show()\n",
        "print('Переболело ',result3[3][364])\n",
        "print('Умерло ',result3[2][364])\n"
      ]
    },
    {
      "cell_type": "code",
      "execution_count": null,
      "metadata": {
        "colab": {
          "base_uri": "https://localhost:8080/",
          "height": 309
        },
        "id": "gsl5DoOAkjzF",
        "outputId": "7aee856d-acc2-4857-9ab4-41b6832f35a0"
      },
      "outputs": [
        {
          "data": {
            "text/plain": [
              "<matplotlib.axes._subplots.AxesSubplot at 0x7f86f1c61450>"
            ]
          },
          "execution_count": 25,
          "metadata": {},
          "output_type": "execute_result"
        },
        {
          "data": {
            "image/png": "[encoded data removed]",
            "text/plain": [
              "<Figure size 432x288 with 1 Axes>"
            ]
          },
          "metadata": {},
          "output_type": "display_data"
        }
      ],
      "source": [
        "France_rate = France[['date','reproduction_rate']]\n",
        "France_rate.plot(x ='date')"
      ]
    },
    {
      "cell_type": "markdown",
      "metadata": {
        "id": "nl8yU_sPy6sg"
      },
      "source": [
        "Учет карантина"
      ]
    },
    {
      "cell_type": "code",
      "source": [
        "France_deaths_cases_year.plot(x = 'date')"
      ],
      "metadata": {
        "colab": {
          "base_uri": "https://localhost:8080/",
          "height": 319
        },
        "id": "s3U52BLYn7YJ",
        "outputId": "9b801cb0-0a6c-462d-df5e-0f9bb45a02ff"
      },
      "execution_count": null,
      "outputs": [
        {
          "output_type": "execute_result",
          "data": {
            "text/plain": [
              "<matplotlib.axes._subplots.AxesSubplot at 0x7f03cf88f3d0>"
            ]
          },
          "metadata": {},
          "execution_count": 49
        },
        {
          "output_type": "display_data",
          "data": {
            "text/plain": [
              "<Figure size 432x288 with 1 Axes>"
            ],
            "image/png": "[encoded data removed]"
          },
          "metadata": {
            "needs_background": "light"
          }
        }
      ]
    },
    {
      "cell_type": "code",
      "source": [
        "c = np.array(France_deaths_cases_year['total_cases'].tolist())\n",
        "d = np.array(France_deaths_cases_year['total_deaths'].tolist())"
      ],
      "metadata": {
        "id": "d4QKaHohkwcj"
      },
      "execution_count": null,
      "outputs": []
    },
    {
      "cell_type": "code",
      "source": [
        "beta = 0.35\n",
        "ee = 0\n",
        "eQ = 0\n",
        "eJ = 0.4\n",
        "gamma1 = 0.05\n",
        "k1 = 0.09\n",
        "k2 = 0.14\n",
        "sigma1 = 0.0337\n",
        "gamma2 =  0.25\n",
        "sigma2= 0.05\n",
        "d1 = 0.0079 \n",
        "d2 = 0.02\n",
        "time = 319\n",
        "t=np.linspace(1,time,time)\n",
        "S0=68084217\n",
        "E0= 13000\n",
        "Q0=0\n",
        "I0= 4500\n",
        "J0=0\n",
        "D0=0\n",
        "R0=0\n",
        "def ode(y, t):\n",
        "        S, E, Q, I, J, D, R = y\n",
        "        dydt = [-beta*(I+ee*E+eQ*Q+eJ*J)*S/(S0-D),\n",
        "                beta*(I+ee*E+eQ*Q+eJ*J)*S/(S0-D)-(gamma1+k1)*E,\n",
        "                gamma1*E-k2*Q,\n",
        "                k1*E-(gamma2+sigma1+d1)*I,\n",
        "                k2*Q-gamma1*I-(sigma2+d2)*J,\n",
        "                d1*I+d2*J,\n",
        "                sigma1*I+sigma2*J]\n",
        "        return dydt \n",
        "result3 = odeint(ode,[S0,E0,Q0,I0,J0,D0,R0],t) \n",
        "result3 = result3.T\n",
        "all_cases = result3[1]\n",
        "for i in range(2,7):\n",
        "    all_cases=all_cases+result3[i]   \n",
        "plt.figure()\n",
        "plt.plot(t,c, label=\"Реальная заболеваемость\")\n",
        "plt.plot(t,d, label=\"Реальная смертность\")\n",
        "plt.plot(t, result3[5], 'y--',label=\"Модель смертности\")\n",
        "plt.plot(t, all_cases,'b--', label=\"Модель заболеваемости\")\n",
        "plt.legend()\n",
        "plt.show()"
      ],
      "metadata": {
        "colab": {
          "base_uri": "https://localhost:8080/",
          "height": 276
        },
        "id": "a0Y5Uh0PHpa0",
        "outputId": "e811f861-863f-469e-ce96-495ffe4ebae3"
      },
      "execution_count": null,
      "outputs": [
        {
          "output_type": "display_data",
          "data": {
            "text/plain": [
              "<Figure size 432x288 with 1 Axes>"
            ],
            "image/png": "[encoded data removed]"
          },
          "metadata": {
            "needs_background": "light"
          }
        }
      ]
    },
    {
      "cell_type": "code",
      "source": [
        "tl = 319\n",
        "np.sum(np.abs(c-(all_cases))+ np.abs(d-result3[5]))/tl"
      ],
      "metadata": {
        "colab": {
          "base_uri": "https://localhost:8080/"
        },
        "id": "mv1N0GbUnUay",
        "outputId": "99582ab5-966b-4c44-8d42-3c4dd9969819"
      },
      "execution_count": null,
      "outputs": [
        {
          "output_type": "execute_result",
          "data": {
            "text/plain": [
              "494014.9807896769"
            ]
          },
          "metadata": {},
          "execution_count": 60
        }
      ]
    },
    {
      "cell_type": "code",
      "source": [
        "tl=319\n",
        "t=np.linspace(1,tl,tl)\n",
        "min = np.sum(np.abs(c-(all_cases))+ np.abs(d-result3[5]))/tl\n",
        "def minimal(beta,eJ,d2):\n",
        "    ee = 0\n",
        "    eQ = 0\n",
        "    gamma1 = 0.05\n",
        "    k1 = 0.09\n",
        "    k2 = 0.14\n",
        "    sigma1 = 0.0337\n",
        "    gamma2 =  0.25\n",
        "    sigma2= 0.05\n",
        "    d1 = 0.0079 \n",
        "    time = 319\n",
        "    t=np.linspace(1,time,time)\n",
        "    S0=68084217\n",
        "    E0= 13000\n",
        "    Q0=0\n",
        "    I0= 4500\n",
        "    J0=0\n",
        "    D0=0\n",
        "    R0=0\n",
        "    def ode(y, t):\n",
        "            S, E, Q, I, J, D, R = y\n",
        "            dydt = [-beta*(I+ee*E+eQ*Q+eJ*J)*S/(S0-D),\n",
        "                    beta*(I+ee*E+eQ*Q+eJ*J)*S/(S0-D)-(gamma1+k1)*E,\n",
        "                    gamma1*E-k2*Q,\n",
        "                    k1*E-(gamma2+sigma1+d1)*I,\n",
        "                    k2*Q-gamma1*I-(sigma2+d2)*J,\n",
        "                    d1*I+d2*J,\n",
        "                    sigma1*I+sigma2*J]\n",
        "            return dydt \n",
        "    result3 = odeint(ode,[S0,E0,Q0,I0,J0,D0,R0],t) \n",
        "    result3 = result3.T\n",
        "    all_cases = result3[1]\n",
        "    for i in range(2,7):\n",
        "        all_cases=all_cases+result3[i]\n",
        "    J = np.sum(np.abs(c-(all_cases))+ np.abs(d-result3[5]))/tl\n",
        "    return J\n",
        "beta = 0.353\n",
        "gamma = 0.4\n",
        "nu = 0.02 \n",
        "step = 0.001\n",
        "for i in tqdm(range(1,1000)):\n",
        "    if minimal(beta+step, gamma,nu)<min:\n",
        "        beta = beta+step\n",
        "        min = minimal(beta, gamma,nu)\n",
        "    if minimal(beta-step, gamma,nu)<min:\n",
        "        beta = beta-step\n",
        "        min = minimal(beta, gamma,nu)\n",
        "    if minimal(beta, gamma+step,nu)<min:\n",
        "        gamma = gamma+step\n",
        "        min = minimal(beta, gamma,nu)\n",
        "    if minimal(beta, gamma-step,nu)<min:\n",
        "        gamma = gamma-step\n",
        "        min = minimal(beta, gamma,nu)\n",
        "    if minimal(beta, gamma,nu+step)<min:\n",
        "        nu = nu+step\n",
        "        min = minimal(beta, gamma,nu)   \n",
        "    if minimal(beta, gamma,nu-step)<min:\n",
        "        nu = nu-step\n",
        "        min = minimal(beta, gamma,nu)\n",
        "result3 = odeint(ode,[S0,E0,Q0,I0,J0,D0,R0],t) \n",
        "result3 = result3.T\n",
        "all_cases = result3[1]\n",
        "for i in range(2,7):\n",
        "    all_cases=all_cases+result3[i]\n",
        "print('beta=', beta)\n",
        "print('eJ=', gamma)\n",
        "print('d2=', nu)\n",
        "plt.figure()\n",
        "plt.plot(t,c, label=\"Реальная заболеваемость\")\n",
        "plt.plot(t,d, label=\"Реальная смертность\")\n",
        "plt.plot(t, result3[5], 'y--',label=\"Модель смертности\")\n",
        "plt.plot(t, all_cases,'b--', label=\"Модель заболеваемости\")\n",
        "plt.legend()\n",
        "plt.show()"
      ],
      "metadata": {
        "colab": {
          "base_uri": "https://localhost:8080/",
          "height": 345
        },
        "id": "GSE5vymKmRMr",
        "outputId": "83300542-ea5a-4b69-ec02-bc824fc5162e"
      },
      "execution_count": null,
      "outputs": [
        {
          "output_type": "stream",
          "name": "stderr",
          "text": [
            "100%|██████████| 999/999 [00:22<00:00, 43.55it/s]\n"
          ]
        },
        {
          "output_type": "stream",
          "name": "stdout",
          "text": [
            "beta= 0.355\n",
            "eJ= 0.403\n",
            "d2= 0.016999999999999998\n"
          ]
        },
        {
          "output_type": "display_data",
          "data": {
            "text/plain": [
              "<Figure size 432x288 with 1 Axes>"
            ],
            "image/png": "[encoded data removed]"
          },
          "metadata": {
            "needs_background": "light"
          }
        }
      ]
    }
  ],
  "metadata": {
    "colab": {
      "collapsed_sections": [],
      "provenance": []
    },
    "kernelspec": {
      "display_name": "Python 3",
      "name": "python3"
    },
    "language_info": {
      "name": "python"
    }
  },
  "nbformat": 4,
  "nbformat_minor": 0
}